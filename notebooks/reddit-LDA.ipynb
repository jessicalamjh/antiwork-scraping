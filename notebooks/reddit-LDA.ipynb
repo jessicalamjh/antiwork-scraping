{
 "cells": [
  {
   "cell_type": "code",
   "execution_count": 25,
   "metadata": {},
   "outputs": [],
   "source": [
    "import json\n",
    "import os\n",
    "import os.path as path\n",
    "from pprint import pprint\n",
    "from tqdm import tqdm\n",
    "\n",
    "from gensim.corpora import Dictionary\n",
    "from gensim.models import LdaModel, CoherenceModel\n",
    "from gensim.models.phrases import Phrases"
   ]
  },
  {
   "cell_type": "code",
   "execution_count": 34,
   "metadata": {},
   "outputs": [],
   "source": [
    "# directories\n",
    "root_dir = path.dirname(os.getcwd())\n",
    "logs_dir = path.join(root_dir, f\"logs/reddit\")\n",
    "posts_dir = path.join(root_dir, f\"data/reddit/preprocessed/posts\")"
   ]
  }
 ],
 "metadata": {
  "interpreter": {
   "hash": "471d86ffb574c1cf8c8f3be81ddc910731657573573a88ea09a07fdf8f361df7"
  },
  "kernelspec": {
   "display_name": "Python 3.9.0 64-bit ('antiwork-scraping': conda)",
   "language": "python",
   "name": "python3"
  },
  "language_info": {
   "codemirror_mode": {
    "name": "ipython",
    "version": 3
   },
   "file_extension": ".py",
   "mimetype": "text/x-python",
   "name": "python",
   "nbconvert_exporter": "python",
   "pygments_lexer": "ipython3",
   "version": "3.9.0"
  },
  "orig_nbformat": 4
 },
 "nbformat": 4,
 "nbformat_minor": 2
}
