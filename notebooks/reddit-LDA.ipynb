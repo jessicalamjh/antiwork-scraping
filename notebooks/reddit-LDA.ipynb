{
 "cells": [
  {
   "cell_type": "code",
   "execution_count": 16,
   "metadata": {},
   "outputs": [],
   "source": [
    "import json\n",
    "import os\n",
    "import os.path as path\n",
    "from pprint import pprint\n",
    "from tqdm import tqdm\n",
    "\n",
    "import numpy as np\n",
    "import pandas as pd\n",
    "import matplotlib.pyplot as plt"
   ]
  },
  {
   "cell_type": "code",
   "execution_count": 19,
   "metadata": {},
   "outputs": [],
   "source": [
    "# directories\n",
    "root_dir = path.dirname(os.getcwd())\n",
    "logs_dir = path.join(root_dir, f\"logs/reddit\")\n",
    "data_dir = path.join(root_dir, f\"data/reddit\")\n",
    "outs_dir = path.join(root_dir, f\"output/reddit\")\n",
    "\n",
    "posts_dir = path.join(data_dir, f\"posts\")\n",
    "comments_dir = path.join(data_dir, f\"comments\")"
   ]
  },
  {
   "cell_type": "code",
   "execution_count": 24,
   "metadata": {},
   "outputs": [],
   "source": [
    "# load LDA results\n",
    "filepath = path.join(outs_dir, \"LDA-2022-02-10-1431\", \"results.jsonl\")\n",
    "results = []\n",
    "with open(filepath, 'r') as f:\n",
    "    for line in f:\n",
    "        results.append(json.loads(line))\n",
    "results = pd.DataFrame(results)"
   ]
  },
  {
   "cell_type": "code",
   "execution_count": 25,
   "metadata": {},
   "outputs": [
    {
     "data": {
      "text/html": [
       "<div>\n",
       "<style scoped>\n",
       "    .dataframe tbody tr th:only-of-type {\n",
       "        vertical-align: middle;\n",
       "    }\n",
       "\n",
       "    .dataframe tbody tr th {\n",
       "        vertical-align: top;\n",
       "    }\n",
       "\n",
       "    .dataframe thead th {\n",
       "        text-align: right;\n",
       "    }\n",
       "</style>\n",
       "<table border=\"1\" class=\"dataframe\">\n",
       "  <thead>\n",
       "    <tr style=\"text-align: right;\">\n",
       "      <th></th>\n",
       "      <th>n_topics</th>\n",
       "      <th>coherence</th>\n",
       "      <th>topics</th>\n",
       "    </tr>\n",
       "  </thead>\n",
       "  <tbody>\n",
       "    <tr>\n",
       "      <th>0</th>\n",
       "      <td>3</td>\n",
       "      <td>0.351524</td>\n",
       "      <td>[[[0.02, year], [0.017, company], [0.007, mone...</td>\n",
       "    </tr>\n",
       "    <tr>\n",
       "      <th>1</th>\n",
       "      <td>4</td>\n",
       "      <td>0.366156</td>\n",
       "      <td>[[[0.024, year], [0.017, company], [0.008, get...</td>\n",
       "    </tr>\n",
       "    <tr>\n",
       "      <th>2</th>\n",
       "      <td>5</td>\n",
       "      <td>0.375763</td>\n",
       "      <td>[[[0.027, year], [0.015, company], [0.009, mon...</td>\n",
       "    </tr>\n",
       "    <tr>\n",
       "      <th>3</th>\n",
       "      <td>6</td>\n",
       "      <td>0.393357</td>\n",
       "      <td>[[[0.025, year], [0.023, company], [0.009, mon...</td>\n",
       "    </tr>\n",
       "    <tr>\n",
       "      <th>4</th>\n",
       "      <td>7</td>\n",
       "      <td>0.385302</td>\n",
       "      <td>[[[0.026, year], [0.025, company], [0.009, mon...</td>\n",
       "    </tr>\n",
       "  </tbody>\n",
       "</table>\n",
       "</div>"
      ],
      "text/plain": [
       "   n_topics  coherence                                             topics\n",
       "0         3   0.351524  [[[0.02, year], [0.017, company], [0.007, mone...\n",
       "1         4   0.366156  [[[0.024, year], [0.017, company], [0.008, get...\n",
       "2         5   0.375763  [[[0.027, year], [0.015, company], [0.009, mon...\n",
       "3         6   0.393357  [[[0.025, year], [0.023, company], [0.009, mon...\n",
       "4         7   0.385302  [[[0.026, year], [0.025, company], [0.009, mon..."
      ]
     },
     "metadata": {},
     "output_type": "display_data"
    }
   ],
   "source": [
    "display(results.head())"
   ]
  },
  {
   "cell_type": "code",
   "execution_count": 28,
   "metadata": {},
   "outputs": [
    {
     "data": {
      "image/png": "[encoded data removed]",
      "text/plain": [
       "<Figure size 432x288 with 1 Axes>"
      ]
     },
     "metadata": {
      "needs_background": "light"
     },
     "output_type": "display_data"
    }
   ],
   "source": [
    "plt.plot('n_topics', 'coherence', data=results)\n",
    "\n",
    "plt.xlabel(\"Number of latent topics\")\n",
    "plt.ylabel(\"Coherence score (c_v)\")\n",
    "\n",
    "plt.tight_layout()\n",
    "plt.grid()\n",
    "plt.show()"
   ]
  },
  {
   "cell_type": "code",
   "execution_count": 29,
   "metadata": {},
   "outputs": [
    {
     "data": {
      "text/plain": [
       "0     [[[0.02, year], [0.017, company], [0.007, mone...\n",
       "1     [[[0.024, year], [0.017, company], [0.008, get...\n",
       "2     [[[0.027, year], [0.015, company], [0.009, mon...\n",
       "3     [[[0.025, year], [0.023, company], [0.009, mon...\n",
       "4     [[[0.026, year], [0.025, company], [0.009, mon...\n",
       "5     [[[0.03, year], [0.025, company], [0.013, mont...\n",
       "6     [[[0.03, company], [0.026, year], [0.013, posi...\n",
       "7     [[[0.03, year], [0.027, company], [0.013, posi...\n",
       "8     [[[0.029, year], [0.016, position], [0.016, in...\n",
       "9     [[[0.026, year], [0.021, company], [0.017, pos...\n",
       "10    [[[0.042, year], [0.015, month], [0.012, offer...\n",
       "11    [[[0.036, year], [0.02, company], [0.016, posi...\n",
       "12    [[[0.033, year], [0.014, experience], [0.014, ...\n",
       "13    [[[0.053, year], [0.019, month], [0.013, raise...\n",
       "14    [[[0.031, year], [0.019, company], [0.018, pos...\n",
       "15    [[[0.048, year], [0.019, raise], [0.018, compa...\n",
       "16    [[[0.04, year], [0.017, position], [0.016, int...\n",
       "17    [[[0.047, year], [0.019, school], [0.013, expe...\n",
       "18    [[[0.053, year], [0.017, raise], [0.017, month...\n",
       "19    [[[0.05, year], [0.021, month], [0.013, get], ...\n",
       "20    [[[0.042, year], [0.014, month], [0.013, get],...\n",
       "21    [[[0.058, year], [0.017, month], [0.012, get],...\n",
       "22    [[[0.055, year], [0.02, month], [0.017, get], ...\n",
       "23    [[[0.049, year], [0.021, company], [0.021, off...\n",
       "24    [[[0.044, year], [0.02, position], [0.019, off...\n",
       "25    [[[0.059, year], [0.014, month], [0.013, schoo...\n",
       "26    [[[0.056, year], [0.024, month], [0.016, get],...\n",
       "27    [[[0.037, year], [0.026, month], [0.025, hr], ...\n",
       "28    [[[0.042, year], [0.02, month], [0.017, money]...\n",
       "29    [[[0.031, minimum_wage], [0.03, wage], [0.03, ...\n",
       "30    [[[0.038, year], [0.034, school], [0.018, stud...\n",
       "31    [[[0.159, not], [0.126, m], [0.031, s], [0.024...\n",
       "32    [[[0.041, year], [0.036, month], [0.018, insur...\n",
       "Name: topics, dtype: object"
      ]
     },
     "execution_count": 29,
     "metadata": {},
     "output_type": "execute_result"
    }
   ],
   "source": [
    "results.topics"
   ]
  }
 ],
 "metadata": {
  "interpreter": {
   "hash": "471d86ffb574c1cf8c8f3be81ddc910731657573573a88ea09a07fdf8f361df7"
  },
  "kernelspec": {
   "display_name": "antiwork-scraping",
   "language": "python",
   "name": "env"
  },
  "language_info": {
   "codemirror_mode": {
    "name": "ipython",
    "version": 3
   },
   "file_extension": ".py",
   "mimetype": "text/x-python",
   "name": "python",
   "nbconvert_exporter": "python",
   "pygments_lexer": "ipython3",
   "version": "3.8.5"
  }
 },
 "nbformat": 4,
 "nbformat_minor": 4
}
