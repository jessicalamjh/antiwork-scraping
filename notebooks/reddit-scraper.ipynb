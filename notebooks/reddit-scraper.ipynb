{
 "cells": [
  {
   "cell_type": "code",
   "execution_count": 9,
   "metadata": {},
   "outputs": [],
   "source": [
    "from datetime import datetime, timedelta\n",
    "import json \n",
    "import os\n",
    "import os.path as path\n",
    "import pandas as pd\n",
    "from pprint import pprint\n",
    "from tqdm import tqdm"
   ]
  },
  {
   "cell_type": "code",
   "execution_count": 23,
   "metadata": {},
   "outputs": [],
   "source": [
    "# directories\n",
    "output_dir = \"../reddit-data\"\n",
    "posts_dir = path.join(output_dir, \"posts\")\n",
    "comments_dir = path.join(output_dir, \"comments\")"
   ]
  }
 ],
 "metadata": {
  "interpreter": {
   "hash": "471d86ffb574c1cf8c8f3be81ddc910731657573573a88ea09a07fdf8f361df7"
  },
  "kernelspec": {
   "display_name": "Python 3.9.0 64-bit ('antiwork-scraping': conda)",
   "language": "python",
   "name": "python3"
  },
  "language_info": {
   "codemirror_mode": {
    "name": "ipython",
    "version": 3
   },
   "file_extension": ".py",
   "mimetype": "text/x-python",
   "name": "python",
   "nbconvert_exporter": "python",
   "pygments_lexer": "ipython3",
   "version": "3.9.0"
  },
  "orig_nbformat": 4
 },
 "nbformat": 4,
 "nbformat_minor": 2
}
