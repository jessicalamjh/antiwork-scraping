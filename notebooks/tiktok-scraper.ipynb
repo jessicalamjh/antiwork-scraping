{
 "cells": [
  {
   "cell_type": "code",
   "execution_count": 10,
   "metadata": {},
   "outputs": [],
   "source": [
    "from collections import Counter\n",
    "import json\n",
    "import os.path as path\n",
    "from pprint import pprint\n",
    "from tqdm import tqdm"
   ]
  },
  {
   "cell_type": "code",
   "execution_count": 3,
   "metadata": {},
   "outputs": [],
   "source": [
    "# directories\n",
    "data_dir = \"../tiktok-data\""
   ]
  },
  {
   "cell_type": "code",
   "execution_count": 13,
   "metadata": {},
   "outputs": [
    {
     "name": "stdout",
     "output_type": "stream",
     "text": [
      "{'createTime', 'diggCount', 'musicMeta', 'hashtags', 'videoUrl', 'id', 'effectStickers', 'text', 'playCount', 'webVideoUrl', 'shareCount', 'downloaded', 'covers', 'videoUrlNoWaterMark', 'mentions', 'authorMeta', 'videoMeta', 'commentCount', 'secretID', 'videoApiUrlNoWaterMark'}\n"
     ]
    }
   ],
   "source": [
    "# load data\n",
    "filepath = path.join(data_dir, \"2022-01-17_0026/antiwork_1642375613935.json\")\n",
    "with open(filepath, 'r') as f:\n",
    "    data = json.load(f)\n",
    "\n",
    "# peek at available metadata\n",
    "print(set(data[0].keys()))"
   ]
  },
  {
   "cell_type": "code",
   "execution_count": 14,
   "metadata": {},
   "outputs": [
    {
     "name": "stdout",
     "output_type": "stream",
     "text": [
      "{'authorMeta': {'avatar': 'https://p16-sign-va.tiktokcdn.com/tos-maliva-avt-0068/aa091267f8bdf9f93cfa1fb2164cfbbb~c5_1080x1080.jpeg?x-expires=1642460400&x-signature=0va%2FPGkpPDVo3Hc7yre9JNNI2OA%3D',\n",
      "                'digg': 29100,\n",
      "                'fans': 17000000,\n",
      "                'following': 1531,\n",
      "                'heart': 772700000,\n",
      "                'id': '6668094621179428870',\n",
      "                'name': 'onlyjayus',\n",
      "                'nickName': 'Isabella Avila',\n",
      "                'secUid': 'MS4wLjABAAAAAXDpVG9r_t6uGRtQ4rqWCcvOXD6R78QYHUwsDRJ-9FgvqwX8bj5bUQcfO-usGMxJ',\n",
      "                'signature': 'I Answer The Questions U Didnt Have\\n'\n",
      "                             '#NotSponsoredByGoogleYet\\n'\n",
      "                             'onlyjayusbiz@gmail',\n",
      "                'verified': True,\n",
      "                'video': 939},\n",
      " 'commentCount': 1848,\n",
      " 'covers': {'default': 'https://p77-sign-va.tiktokcdn.com/obj/tos-maliva-p-0068/54d697251bda44d4b5863c4a5e21f068_1635372678?x-expires=1642395600&x-signature=I7qcO31sytStFiyzVxEkGTndgWY%3D',\n",
      "            'dynamic': 'https://p77-sign-va.tiktokcdn.com/obj/tos-maliva-p-0068/599ce85b334b4489b9a1286158489d82_1635372677?x-expires=1642395600&x-signature=R6gHGUZOlrQD5QDFYTvYdfLeGaQ%3D',\n",
      "            'origin': 'https://p77-sign-va.tiktokcdn.com/obj/tos-maliva-p-0068/8d4d9b40606042e99d792d3c095b8406_1635372678?x-expires=1642395600&x-signature=SIHDJHvRS0fA7YirgEYpFzerTfo%3D'},\n",
      " 'createTime': 1635372676,\n",
      " 'diggCount': 454300,\n",
      " 'downloaded': False,\n",
      " 'effectStickers': [],\n",
      " 'hashtags': [{'cover': '', 'id': '229207', 'name': 'fyp', 'title': ''},\n",
      "              {'cover': '', 'id': '467843', 'name': 'lifeadvice', 'title': ''},\n",
      "              {'cover': '', 'id': '151540', 'name': 'advice', 'title': ''},\n",
      "              {'cover': 'https://p16-amd-va.tiktokcdn.com/obj/musically-maliva-obj/d08ab589449aa36692eab793d0697eb4',\n",
      "               'id': '325405',\n",
      "               'name': 'lifehacks',\n",
      "               'title': 'Show us those tips and tricks that have changed your '\n",
      "                        'life.'},\n",
      "              {'cover': '', 'id': '1139721', 'name': 'hacks', 'title': ''},\n",
      "              {'cover': '', 'id': '6920', 'name': 'money', 'title': ''},\n",
      "              {'cover': '', 'id': '6122', 'name': 'work', 'title': ''},\n",
      "              {'cover': '', 'id': '6618995', 'name': 'antiwork', 'title': ''},\n",
      "              {'cover': '', 'id': '7953', 'name': 'cars', 'title': ''},\n",
      "              {'cover': '', 'id': '88965', 'name': 'job', 'title': ''},\n",
      "              {'cover': '', 'id': '39210', 'name': 'hospital', 'title': ''},\n",
      "              {'cover': '',\n",
      "               'id': '1648803183345669',\n",
      "               'name': 'onlyjayus',\n",
      "               'title': ''}],\n",
      " 'id': '7023872150213889286',\n",
      " 'mentions': [],\n",
      " 'musicMeta': {'coverLarge': 'https://p16-amd-va.tiktokcdn.com/img/tos-useast2a-v-2774/0304b540e10449cc9410e451100ddd18~c5_720x720.jpeg',\n",
      "               'coverMedium': 'https://p16-amd-va.tiktokcdn.com/img/tos-useast2a-v-2774/0304b540e10449cc9410e451100ddd18~c5_200x200.jpeg',\n",
      "               'coverThumb': 'https://p16-amd-va.tiktokcdn.com/img/tos-useast2a-v-2774/0304b540e10449cc9410e451100ddd18~c5_100x100.jpeg',\n",
      "               'duration': 45,\n",
      "               'musicAlbum': 'Face Off - Dwayne Johnson',\n",
      "               'musicAuthor': 'Tech N9ne & Joey Cool & King Iso & Dwayne '\n",
      "                              'Johnson',\n",
      "               'musicId': '7016547803243022337',\n",
      "               'musicName': 'Face Off - Dwayne Johnson',\n",
      "               'musicOriginal': False,\n",
      "               'playUrl': 'https://sf16-ies-music-va.tiktokcdn.com/obj/tos-useast2a-ve-2774/6da2885371bd451daeb323481aeaaecd'},\n",
      " 'playCount': 2600000,\n",
      " 'secretID': '7023872150213889286',\n",
      " 'shareCount': 3959,\n",
      " 'text': 'Real Life Advice w Jayus 😘 #fyp #lifeadvice #advice #lifehacks '\n",
      "         '#hacks #money #work #antiwork #cars #job #hospital #onlyjayus',\n",
      " 'videoApiUrlNoWaterMark': '',\n",
      " 'videoMeta': {'duration': 40, 'height': 1024, 'width': 576},\n",
      " 'videoUrl': 'https://v16-webapp.tiktok.com/f5e6b96362db164f30cb313ba4c728ec/61e4fe25/video/tos/useast2a/tos-useast2a-pve-0068/bf2a031dff1447dc9e09c33ff3f271c2/?a=1988&br=2358&bt=1179&cd=0%7C0%7C1&ch=0&cr=0&cs=0&cv=1&dr=0&ds=3&er=&ft=Yu12_FFUkag3-I&l=202201162326210102231201660D9D60C8&lr=tiktok_m&mime_type=video_mp4&net=0&pl=0&qs=0&rc=anFpamQ6Zmh2ODMzNzczM0ApOTVpOTs0OGQ8NzdlZTM4OmdsamVpcjRnb3BgLS1kMTZzczAyX18yYWJeXjIuLjA2LzE6Yw%3D%3D&vl=&vr=',\n",
      " 'videoUrlNoWaterMark': '',\n",
      " 'webVideoUrl': 'https://www.tiktok.com/@onlyjayus/video/7023872150213889286'}\n"
     ]
    }
   ],
   "source": [
    "pprint(data[0])"
   ]
  }
 ],
 "metadata": {
  "interpreter": {
   "hash": "471d86ffb574c1cf8c8f3be81ddc910731657573573a88ea09a07fdf8f361df7"
  },
  "kernelspec": {
   "display_name": "Python 3.9.0 64-bit ('antiwork-scraping': conda)",
   "language": "python",
   "name": "python3"
  },
  "language_info": {
   "codemirror_mode": {
    "name": "ipython",
    "version": 3
   },
   "file_extension": ".py",
   "mimetype": "text/x-python",
   "name": "python",
   "nbconvert_exporter": "python",
   "pygments_lexer": "ipython3",
   "version": "3.9.0"
  },
  "orig_nbformat": 4
 },
 "nbformat": 4,
 "nbformat_minor": 2
}
